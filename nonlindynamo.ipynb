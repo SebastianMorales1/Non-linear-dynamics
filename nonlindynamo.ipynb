{
  "nbformat": 4,
  "nbformat_minor": 0,
  "metadata": {
    "colab": {
      "provenance": [],
      "authorship_tag": "ABX9TyMYKLxaZ7FEMBLo8Gts6ZpU",
      "include_colab_link": true
    },
    "kernelspec": {
      "name": "python3",
      "display_name": "Python 3"
    },
    "language_info": {
      "name": "python"
    }
  },
  "cells": [
    {
      "cell_type": "markdown",
      "metadata": {
        "id": "view-in-github",
        "colab_type": "text"
      },
      "source": [
        "<a href=\"https://colab.research.google.com/github/SebastianMorales1/blah/blob/main/nonlindynamo.ipynb\" target=\"_parent\"><img src=\"https://colab.research.google.com/assets/colab-badge.svg\" alt=\"Open In Colab\"/></a>"
      ]
    },
    {
      "cell_type": "markdown",
      "source": [
        "Código de mapa logístico"
      ],
      "metadata": {
        "id": "jaS97OPP9kSR"
      }
    },
    {
      "cell_type": "code",
      "source": [
        "#Código de mapa logístico\n",
        "import numpy as np \n",
        "steps = 500\n",
        "y = np.zeros(steps + 1)\n",
        "x = np.zeros(steps + 1)\n",
        "r = 3.4\n",
        "y[0] = 0.2\n",
        "x[0] = 0.200001\n",
        "for i in range(steps):\n",
        "\ty[i+1] = r * y[i] * (1 - y[i])\n",
        "for i in range(steps):\n",
        "  x[i+1] = r * x[i] * (1 - x[i])\n",
        "\n",
        "print(y[i+1],x[i+1])\n"
      ],
      "metadata": {
        "id": "zOIHFD4c9fKH"
      },
      "execution_count": null,
      "outputs": []
    },
    {
      "cell_type": "code",
      "execution_count": null,
      "metadata": {
        "colab": {
          "base_uri": "https://localhost:8080/"
        },
        "id": "oaJv25zZEGrQ",
        "outputId": "889b078c-b3c6-47dc-e980-27cdf72fe0a5"
      },
      "outputs": [
        {
          "output_type": "stream",
          "name": "stdout",
          "text": [
            "[-1.2 -1.6]\n"
          ]
        }
      ],
      "source": [
        "import numpy as np\n",
        "\n",
        "x = -1\n",
        "v = -2\n",
        "d = 0.1\n",
        "x1 = -4*x\n",
        "\n",
        "a = np.array([x, v])\n",
        "b = np.array([v, x1])\n",
        "e = a + d*b\n",
        "print(e)\n"
      ]
    },
    {
      "cell_type": "markdown",
      "source": [
        "forward euler"
      ],
      "metadata": {
        "id": "0Hov0yAl4g3v"
      }
    },
    {
      "cell_type": "code",
      "source": [
        "#forward euler\n",
        "import numpy as np\n",
        "\n",
        "#numero de iteraciones\n",
        "steps = 5\n",
        "v = np.zeros(steps + 1)\n",
        "x = np.zeros(steps + 1)\n",
        "#variables de estado\n",
        "x[0] = -1\n",
        "v[0] = -2\n",
        "#dt sirve como diferencia de tiempo\n",
        "dt = 0.1\n",
        "\n",
        "for i in range(steps):\n",
        "  x[i+1] = x[i] + dt*v[i]\n",
        "  v[i+1] = v[i] + dt*-4*x[i]\n",
        "\n",
        "print(x[i+1],v[i+1])\n",
        "\n"
      ],
      "metadata": {
        "id": "dtF_kY8rIgHb",
        "colab": {
          "base_uri": "https://localhost:8080/"
        },
        "outputId": "d96fcf90-2f20-4726-f941-ec569efa6087"
      },
      "execution_count": null,
      "outputs": [
        {
          "output_type": "stream",
          "name": "stdout",
          "text": [
            "-1.5283200000000001 0.6246399999999999\n"
          ]
        }
      ]
    },
    {
      "cell_type": "code",
      "source": [],
      "metadata": {
        "id": "AyowFgOYMHFw"
      },
      "execution_count": null,
      "outputs": []
    },
    {
      "cell_type": "code",
      "source": [
        "#forward euler de la prueba\n",
        "import numpy as np\n",
        "\n",
        "#numero de iteraciones\n",
        "steps = 10\n",
        "v = np.zeros(steps + 1)\n",
        "x = np.zeros(steps + 1)\n",
        "#variables de estado\n",
        "x[0] = -1\n",
        "v[0] = -2\n",
        "#dt sirve como diferencia de tiempo\n",
        "dt = 0.05\n",
        "\n",
        "for i in range(steps):\n",
        "  x[i+1] = x[i] + dt*v[i]\n",
        "  v[i+1] = v[i] + dt*-2*x[i]\n",
        "\n",
        "print(x[i+1],v[i+1])\n",
        "\n"
      ],
      "metadata": {
        "colab": {
          "base_uri": "https://localhost:8080/"
        },
        "outputId": "a926e794-3e2e-41b9-99ed-c6a01ff9e185",
        "id": "Jmd-JjptMQ0Q"
      },
      "execution_count": 6,
      "outputs": [
        {
          "output_type": "stream",
          "name": "stdout",
          "text": [
            "-1.7208522787468752 -0.6198190556187498\n"
          ]
        }
      ]
    },
    {
      "cell_type": "markdown",
      "source": [
        "bacward euler"
      ],
      "metadata": {
        "id": "9rDmi5gx4d9_"
      }
    },
    {
      "cell_type": "code",
      "source": [
        "import numpy as np\n",
        "\n",
        "steps = 2\n",
        "v = np.zeros(steps + 1)\n",
        "x = np.zeros(steps + 1)\n",
        "x[0] = 1\n",
        "v[0] = 0\n",
        "dt = 0.1\n",
        "\n",
        "#Para hacer más sencillo el código, sería bueno un bucle anidado.\n",
        "# un ciclo grande del backward euler, y uno pequeño de forward euler, porque es una función compleja\n",
        "for i in range(steps):\n",
        "  a = v[i] + dt*(-1)*x[i]\n",
        "  b = (-1)*(x[i] + dt*v[i])\n",
        "  x[i+1] = x[i] + dt*(a)\n",
        "  v[i+1] = v[i] + dt*(b)\n",
        "\n",
        "  \n",
        "print(x[i+1],v[i+1])\n",
        "\n"
      ],
      "metadata": {
        "colab": {
          "base_uri": "https://localhost:8080/"
        },
        "outputId": "6663c85c-fa19-48a7-d588-cc284be66128",
        "id": "rHeyLaqf2Wte"
      },
      "execution_count": null,
      "outputs": [
        {
          "output_type": "stream",
          "name": "stdout",
          "text": [
            "0.9701 -0.198\n"
          ]
        }
      ]
    },
    {
      "cell_type": "code",
      "source": [
        "import numpy as np\n",
        "\n",
        "steps = 5\n",
        "v = np.zeros(steps + 1)\n",
        "x = np.zeros(steps + 1)\n",
        "x[0] = -1\n",
        "v[0] = -2\n",
        "dt = 0.1\n",
        "\n",
        "#Para hacer más sencillo el código, sería bueno un bucle anidado.\n",
        "# un ciclo grande del backward euler, y uno pequeño de forward euler, porque es una función compleja\n",
        "for i in range(steps):\n",
        "  a = v[i] + dt*(-4)*x[i]\n",
        "  b = (-4)*(x[i] + dt*v[i])\n",
        "  x[i+1] = x[i] + dt*(a)\n",
        "  v[i+1] = v[i] + dt*(b)\n",
        "\n",
        "  \n",
        "print(x[i+1],v[i+1])"
      ],
      "metadata": {
        "colab": {
          "base_uri": "https://localhost:8080/"
        },
        "id": "zv9UK8WR_bT7",
        "outputId": "b2477137-7f91-48c8-c33d-6ddaa53c5f60"
      },
      "execution_count": 1,
      "outputs": [
        {
          "output_type": "stream",
          "name": "stdout",
          "text": [
            "-1.2450968576 0.6135605248000002\n"
          ]
        }
      ]
    },
    {
      "cell_type": "code",
      "source": [],
      "metadata": {
        "id": "dYNfHey2KmNW"
      },
      "execution_count": null,
      "outputs": []
    },
    {
      "cell_type": "code",
      "source": [
        "import numpy as np\n",
        "\n",
        "steps = 10\n",
        "v = np.zeros(steps + 1)\n",
        "x = np.zeros(steps + 1)\n",
        "x[0] = -1\n",
        "v[0] = -2\n",
        "dt = 0.05\n",
        "\n",
        "#Para hacer más sencillo el código, sería bueno un bucle anidado.\n",
        "# un ciclo grande del backward euler, y uno pequeño de forward euler, porque es una función compleja\n",
        "for i in range(steps):\n",
        "  a = v[i] + dt*(-2)*x[i]\n",
        "  b = (-2)*(x[i] + dt*v[i])\n",
        "  x[i+1] = x[i] + dt*(a)\n",
        "  v[i+1] = v[i] + dt*(b)\n",
        "\n",
        "print(x[i+1],v[i+1])"
      ],
      "metadata": {
        "colab": {
          "base_uri": "https://localhost:8080/"
        },
        "outputId": "11c58bb6-159f-404d-ed5b-9a73f61a31ed",
        "id": "m4KzWuECKmfg"
      },
      "execution_count": 5,
      "outputs": [
        {
          "output_type": "stream",
          "name": "stdout",
          "text": [
            "-1.6385942195253755 -0.581474631231691\n"
          ]
        }
      ]
    }
  ]
}